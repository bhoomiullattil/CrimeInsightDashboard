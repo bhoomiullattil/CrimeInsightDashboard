{
  "nbformat": 4,
  "nbformat_minor": 0,
  "metadata": {
    "colab": {
      "name": "SPACYMODEL.ipynb",
      "provenance": [],
      "collapsed_sections": []
    },
    "kernelspec": {
      "name": "python3",
      "display_name": "Python 3"
    },
    "language_info": {
      "name": "python"
    }
  },
  "cells": [
    {
      "cell_type": "code",
      "execution_count": null,
      "metadata": {
        "colab": {
          "base_uri": "https://localhost:8080/"
        },
        "id": "a713fUOKAwOo",
        "outputId": "e897b1d2-b465-470f-a207-826864db78e7"
      },
      "outputs": [
        {
          "output_type": "execute_result",
          "data": {
            "text/plain": [
              "['tagger', 'parser', 'ner']"
            ]
          },
          "metadata": {},
          "execution_count": 16
        }
      ],
      "source": [
        "import spacy\n",
        "nlp=spacy.load('en_core_web_sm')\n",
        "nlp.pipe_names"
      ]
    },
    {
      "cell_type": "code",
      "source": [
        "import random\n",
        "from spacy.util import minibatch,compounding\n",
        "from pathlib import Path"
      ],
      "metadata": {
        "id": "Lxp54CVbfsCr"
      },
      "execution_count": null,
      "outputs": []
    },
    {
      "cell_type": "code",
      "source": [
        "ner=nlp.get_pipe(\"ner\")\n",
        "TRAIN_DATA=[\n",
        "\n",
        "(\"Delhi woman siphons off over Rs 2 lakh from father's pension account, held\",{\"entities\":[(12,23,\"FOR\")]}),\n",
        "\n",
        "(\"Couple found dead at home in Bhopal, police suspect suicide\",{\"entities\":[(44,59,\"SUSSUI\")]}),\n",
        "\n",
        "(\"Youth attacked with sharp weapons on Jaipur road, video put on social media; case filed\",{\"entities\":[(6,14,\"NOV\")]}),\n",
        "\n",
        "(\"1.6-kg gold seized from 3 international flyers at Chennai airport\",{\"entities\":[(12,18,\"SMUG\")]}),\n",
        "\n",
        "(\"Trio arrested with guns as robbery attempt foiled in Mumbai\",{\"entities\":[(35,42,\"ATT\")]}),\n",
        "\n",
        "(\"Honour killing? 21-year-old girl in inter-faith relationship found dead at home in Telangana\",{\"entities\":[(7,15,\"MBM\")]}),\n",
        "\n",
        "(\"Honour killing? 21-year-old girl in inter-faith relationship found dead at home in Telangana\",{\"entities\":[(7,14,\"M\")]}),\n",
        "\n",
        "(\"TRS leader assaults ex-girlfriend in Hyderabad\",{\"entities\":[(11,19,\"NOV\")]}),\n",
        "\n",
        "(\"2 boys kept in chains at madrasa in Lucknow to prevent them from running away\",{\"entities\":[(7,21,\"NOV\")]}),\n",
        "\n",
        "(\"Delhi Police's EOW arrests 2 builders in Rs 543 crore scam\",{\"entities\":[(54,58,\"FOR\")]}),\n",
        "\n",
        "(\"Delhi Customs arrests three for gold smuggling, recovers 14 gold bars\",{\"entities\":[(37,46,\"SMUG\")]}),\n",
        "\n",
        "(\"NCB Mumbai seizes drugs in two operations, 1 arrested\",{\"entities\":[(11,17,\"SMUG\")]}),\n",
        "\n",
        "(\"Elderly man ends life after forced to drink urine over witchcraft suspicion in WB's Murshidabad\",{\"entities\":[(12,21,\"SUI\")]}),\n",
        "\n",
        "(\"UP: 75-year-old man kills 66-year-old wife suspecting her character\",{\"entities\":[(20,24,\"M\")]}),\n",
        "\n",
        "(\"Prayagraj: Father opens fire at daughter, kills her lover in rage, arrested\",{\"entities\":[(18,28,\"NOV\")]}),\n",
        "\n",
        "(\"Ranchi school principal booked on sexual harassment charges\",{\"entities\":[(34,51,\"HRS\")]}),\n",
        "\n",
        "(\"Man held for forcing wife to convert, trying to kill her in UP’s Bulandshahr\",{\"entities\":[(12,23,\"FOR\"),(38,52,\"MA\")]}),\n",
        "\n",
        "(\"A 21-year-old woman filed an FIR against her estranged husband and two others alleging coercion, assault and attempt to murder.\",{\"entities\":[(109,126,\"MA\"),(97,104,\"NOV\")]})\n",
        "\n",
        "]"
      ],
      "metadata": {
        "id": "uhNtgZvyDTGx"
      },
      "execution_count": null,
      "outputs": []
    },
    {
      "cell_type": "code",
      "source": [
        "for _, annotations in TRAIN_DATA:\n",
        "  for ent in annotations.get(\"entities\"):\n",
        "    ner.add_label(ent[2])\n",
        "    print(ent[2])"
      ],
      "metadata": {
        "colab": {
          "base_uri": "https://localhost:8080/"
        },
        "id": "zT_67ue4d_dY",
        "outputId": "8d45cddc-f601-4ac7-8a3d-db7256dd98d6"
      },
      "execution_count": null,
      "outputs": [
        {
          "output_type": "stream",
          "name": "stdout",
          "text": [
            "FOR\n",
            "SUSSUI\n",
            "NOV\n",
            "SMUG\n",
            "ATT\n",
            "MBM\n",
            "M\n",
            "NOV\n",
            "NOV\n",
            "FOR\n",
            "SMUG\n",
            "SMUG\n",
            "SUI\n",
            "M\n",
            "NOV\n",
            "HRS\n",
            "FOR\n",
            "MA\n",
            "MA\n",
            "NOV\n"
          ]
        }
      ]
    },
    {
      "cell_type": "code",
      "source": [
        "pipe_exceptions = [\"ner\", \"trf_wordpiecer\", \"trf_tok2vec\"]\n",
        "unaffected_pipes = [pipe for pipe in nlp.pipe_names if pipe not in pipe_exceptions]\n",
        "nlp.disable_pipes(unaffected_pipes)"
      ],
      "metadata": {
        "colab": {
          "base_uri": "https://localhost:8080/"
        },
        "id": "w1bGqJFrfBW5",
        "outputId": "1b8ec63b-534d-4da2-8dbd-c49f70347e4f"
      },
      "execution_count": null,
      "outputs": [
        {
          "output_type": "execute_result",
          "data": {
            "text/plain": [
              "[('tagger', <spacy.pipeline.pipes.Tagger at 0x7f71476d3250>),\n",
              " ('parser', <spacy.pipeline.pipes.DependencyParser at 0x7f713ddbcec0>)]"
            ]
          },
          "metadata": {},
          "execution_count": 20
        }
      ]
    },
    {
      "cell_type": "code",
      "source": [
        "for iteration in range(30):\n",
        "\n",
        "    # shuufling examples  before every iteration\n",
        "    \n",
        "    losses = {}\n",
        "    # batch up the examples using spaCy's minibatch\n",
        "    batches = minibatch(TRAIN_DATA, size=compounding(4.0, 32.0, 1.001))\n",
        "    for batch in batches:\n",
        "        texts, annotations = zip(*batch)\n",
        "        nlp.update(\n",
        "                    texts,  # batch of texts\n",
        "                    annotations,  # batch of annotations\n",
        "                   # drop=0.5,  # dropout - make it harder to memorise data\n",
        "                    losses=losses,\n",
        "                )\n",
        "        print(\"Losses\", losses)\n",
        "    random.shuffle(TRAIN_DATA)"
      ],
      "metadata": {
        "colab": {
          "base_uri": "https://localhost:8080/"
        },
        "id": "hA6yBveqfNoX",
        "outputId": "11803bbe-4ca9-4bb4-d7c7-0e8186b5bd66"
      },
      "execution_count": null,
      "outputs": [
        {
          "output_type": "stream",
          "name": "stdout",
          "text": [
            "Losses {'ner': 19.36338460445404}\n",
            "Losses {'ner': 39.724927604198456}\n",
            "Losses {'ner': 54.66863965988159}\n",
            "Losses {'ner': 69.19930684566498}\n",
            "Losses {'ner': 76.10121285915375}\n",
            "Losses {'ner': 11.208925753831863}\n",
            "Losses {'ner': 23.778948731720448}\n",
            "Losses {'ner': 34.32379387691617}\n",
            "Losses {'ner': 43.294835494831204}\n",
            "Losses {'ner': 47.229375595692545}\n",
            "Losses {'ner': 9.755503855529241}\n",
            "Losses {'ner': 17.67429976229323}\n",
            "Losses {'ner': 27.781785559782293}\n",
            "Losses {'ner': 35.47266688867239}\n",
            "Losses {'ner': 39.39164478200837}\n",
            "Losses {'ner': 7.4080539180431515}\n",
            "Losses {'ner': 14.871464872267097}\n",
            "Losses {'ner': 22.032271810341626}\n",
            "Losses {'ner': 31.036671663168818}\n",
            "Losses {'ner': 35.69095519185066}\n",
            "Losses {'ner': 8.077335368841887}\n",
            "Losses {'ner': 14.804953120648861}\n",
            "Losses {'ner': 20.439648676663637}\n",
            "Losses {'ner': 25.49686224386096}\n",
            "Losses {'ner': 28.70588678959757}\n",
            "Losses {'ner': 6.361318359151483}\n",
            "Losses {'ner': 11.712967136409134}\n",
            "Losses {'ner': 17.567316429223865}\n",
            "Losses {'ner': 24.087737157009542}\n",
            "Losses {'ner': 26.789686170232017}\n",
            "Losses {'ner': 4.998159811832011}\n",
            "Losses {'ner': 11.490696280670818}\n",
            "Losses {'ner': 16.985465031990316}\n",
            "Losses {'ner': 20.383147717511747}\n",
            "Losses {'ner': 21.31688815742382}\n",
            "Losses {'ner': 3.098101424286142}\n",
            "Losses {'ner': 5.864513156237081}\n",
            "Losses {'ner': 10.263400087831542}\n",
            "Losses {'ner': 16.59537143810303}\n",
            "Losses {'ner': 19.107620817647785}\n",
            "Losses {'ner': 25.505948886362603}\n",
            "Losses {'ner': 29.940842639509356}\n",
            "Losses {'ner': 32.51912923468626}\n",
            "Losses {'ner': 40.22799607863999}\n",
            "Losses {'ner': 42.639353699516505}\n",
            "Losses {'ner': 3.508926906855777}\n",
            "Losses {'ner': 15.59196934197098}\n",
            "Losses {'ner': 17.967150457203388}\n",
            "Losses {'ner': 22.331631863024086}\n",
            "Losses {'ner': 26.243666949361796}\n",
            "Losses {'ner': 0.1628707064082846}\n",
            "Losses {'ner': 6.168901491328143}\n",
            "Losses {'ner': 8.827278287441004}\n",
            "Losses {'ner': 14.136247277026996}\n",
            "Losses {'ner': 15.725534586294089}\n",
            "Losses {'ner': 5.0799363176338375}\n",
            "Losses {'ner': 8.79832710151095}\n",
            "Losses {'ner': 11.58289705964853}\n",
            "Losses {'ner': 13.199482175799062}\n",
            "Losses {'ner': 15.322075790735767}\n",
            "Losses {'ner': 2.450568937754724}\n",
            "Losses {'ner': 4.151878661556111}\n",
            "Losses {'ner': 5.2238277538526745}\n",
            "Losses {'ner': 7.911619406771933}\n",
            "Losses {'ner': 11.488821511524293}\n",
            "Losses {'ner': 0.7882910397456726}\n",
            "Losses {'ner': 4.617676278408908}\n",
            "Losses {'ner': 5.556692128429859}\n",
            "Losses {'ner': 6.838356103989099}\n",
            "Losses {'ner': 7.719993575395733}\n",
            "Losses {'ner': 1.0455015876868856}\n",
            "Losses {'ner': 3.3257887980362284}\n",
            "Losses {'ner': 7.0926397470830125}\n",
            "Losses {'ner': 7.867984394259111}\n",
            "Losses {'ner': 7.994344112948681}\n",
            "Losses {'ner': 0.4912709522905061}\n",
            "Losses {'ner': 1.1018378071494226}\n",
            "Losses {'ner': 3.442422178961536}\n",
            "Losses {'ner': 4.114962467219996}\n",
            "Losses {'ner': 4.115886957836833}\n",
            "Losses {'ner': 0.21305794376571185}\n",
            "Losses {'ner': 1.3981565561164828}\n",
            "Losses {'ner': 1.4744788198430072}\n",
            "Losses {'ner': 1.5033253539614364}\n",
            "Losses {'ner': 1.5034771369307673}\n",
            "Losses {'ner': 0.45315819119054757}\n",
            "Losses {'ner': 1.2006661892701316}\n",
            "Losses {'ner': 1.2076782287395047}\n",
            "Losses {'ner': 1.2091397485137434}\n",
            "Losses {'ner': 1.2101724766357704}\n",
            "Losses {'ner': 0.000736328333839964}\n",
            "Losses {'ner': 5.064988058432487}\n",
            "Losses {'ner': 5.0660198197189565}\n",
            "Losses {'ner': 5.066098842533522}\n",
            "Losses {'ner': 5.066332051440862}\n",
            "Losses {'ner': 2.0611969754806925}\n",
            "Losses {'ner': 2.0613275303797156}\n",
            "Losses {'ner': 2.0614546865519823}\n",
            "Losses {'ner': 4.86492139268825}\n",
            "Losses {'ner': 4.865102931615951}\n",
            "Losses {'ner': 0.00016845559537997934}\n",
            "Losses {'ner': 0.00026365638545605696}\n",
            "Losses {'ner': 0.00028108292754468536}\n",
            "Losses {'ner': 0.0005673694248953427}\n",
            "Losses {'ner': 1.211997170667034}\n",
            "Losses {'ner': 1.2049807117386901e-05}\n",
            "Losses {'ner': 6.944847260553777e-05}\n",
            "Losses {'ner': 7.868495889352262e-05}\n",
            "Losses {'ner': 5.0500408235281675}\n",
            "Losses {'ner': 5.050303058047556}\n",
            "Losses {'ner': 1.6449454690370402e-05}\n",
            "Losses {'ner': 3.1698172531407005}\n",
            "Losses {'ner': 3.1698318892586728}\n",
            "Losses {'ner': 5.294969082392513}\n",
            "Losses {'ner': 5.294971682327389}\n",
            "Losses {'ner': 1.765557627787977}\n",
            "Losses {'ner': 1.7655855186007101}\n",
            "Losses {'ner': 1.765590493318666}\n",
            "Losses {'ner': 3.13511970241814}\n",
            "Losses {'ner': 3.135120476711855}\n",
            "Losses {'ner': 3.138296470694968e-05}\n",
            "Losses {'ner': 1.0229229324292501}\n",
            "Losses {'ner': 1.0229313075436273}\n",
            "Losses {'ner': 1.0229345093852893}\n",
            "Losses {'ner': 1.022941593330278}\n",
            "Losses {'ner': 7.204110801239949e-06}\n",
            "Losses {'ner': 0.0003096871315477756}\n",
            "Losses {'ner': 3.549337551893395}\n",
            "Losses {'ner': 5.571438408785328}\n",
            "Losses {'ner': 5.571440277038739}\n",
            "Losses {'ner': 3.479192731444897}\n",
            "Losses {'ner': 5.482142392623757}\n",
            "Losses {'ner': 5.482145506098247}\n",
            "Losses {'ner': 5.482146756546948}\n",
            "Losses {'ner': 5.482148925278225}\n",
            "Losses {'ner': 1.6928262525084392e-06}\n",
            "Losses {'ner': 3.6498795422668096e-06}\n",
            "Losses {'ner': 0.9367054408998321}\n",
            "Losses {'ner': 1.3734570365394805}\n",
            "Losses {'ner': 1.3734598524566206}\n",
            "Losses {'ner': 0.5438817823418021}\n",
            "Losses {'ner': 0.5438843678088378}\n",
            "Losses {'ner': 0.5438875756284007}\n",
            "Losses {'ner': 3.737857107035654}\n",
            "Losses {'ner': 3.7378623665679744}\n",
            "Losses {'ner': 8.107181946881425e-07}\n",
            "Losses {'ner': 2.0653318363398463}\n",
            "Losses {'ner': 5.398130322955696}\n",
            "Losses {'ner': 5.3981332220860505}\n",
            "Losses {'ner': 5.398134444526331}\n"
          ]
        }
      ]
    },
    {
      "cell_type": "code",
      "source": [
        "doc=nlp(\"police seized drugs from van\")\n",
        "print(\"Entities\", [(ent.text, ent.label_) for ent in doc.ents])"
      ],
      "metadata": {
        "colab": {
          "base_uri": "https://localhost:8080/"
        },
        "id": "4vRHXwaqgLCq",
        "outputId": "bbf06d3d-31e4-4e6d-eef5-80f2d9d34796"
      },
      "execution_count": null,
      "outputs": [
        {
          "output_type": "stream",
          "name": "stdout",
          "text": [
            "Entities [('seized', 'SMUG')]\n"
          ]
        }
      ]
    },
    {
      "cell_type": "code",
      "source": [
        "type([(ent.text, ent.label_) for ent in doc.ents])"
      ],
      "metadata": {
        "colab": {
          "base_uri": "https://localhost:8080/"
        },
        "id": "YqjYWk7CgiSB",
        "outputId": "a84b0ba3-9db0-4659-9b5d-0301c556bde1"
      },
      "execution_count": null,
      "outputs": [
        {
          "output_type": "execute_result",
          "data": {
            "text/plain": [
              "list"
            ]
          },
          "metadata": {},
          "execution_count": 28
        }
      ]
    }
  ]
}